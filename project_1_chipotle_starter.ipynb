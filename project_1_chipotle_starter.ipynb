{
 "cells": [
  {
   "cell_type": "markdown",
   "metadata": {},
   "source": [
    "# Python Homework with Chipotle Data"
   ]
  },
  {
   "cell_type": "markdown",
   "metadata": {},
   "source": [
    "## Part 1\n",
    "\n",
    "- Read in the file with csv.reader() and store it in an object called 'file_nested_list'.\n",
    "- Hint: This is a TSV file, and csv.reader() needs to be told how to handle it."
   ]
  },
  {
   "cell_type": "code",
   "execution_count": null,
   "metadata": {},
   "outputs": [],
   "source": [
    "!pwd"
   ]
  },
  {
   "cell_type": "code",
   "execution_count": null,
   "metadata": {},
   "outputs": [],
   "source": [
    "# Change the working directory to the 'data' directory\n",
    "%cd data"
   ]
  },
  {
   "cell_type": "code",
   "execution_count": null,
   "metadata": {},
   "outputs": [],
   "source": [
    "# To use csv.reader, we must import the csv module\n",
    "import csv\n",
    "\n",
    "# The csv.reader has a delimeter parameter, which we set to '\\t' to indicate that the file is tab-separated\n",
    "with open('chipotle.tsv', mode='rU') as f:   # We temporarily refer to the file by the variable name f for file\n",
    "    file_nested_list = [row for row in csv.reader(f, delimiter='\\t')]   # Create a list by looping through each line in f"
   ]
  },
  {
   "cell_type": "markdown",
   "metadata": {},
   "source": [
    "### Why use csv.reader?\n",
    "\n",
    "As stated in the [CSV file reading and writing documentation](https://docs.python.org/2/library/csv.html):\n",
    "\n",
    "> There is no \"CSV standard\", so the format is operationally defined by the many applications which \n",
    "read and write it. The lack of a standard means that subtle differences often exist in the data \n",
    "produced and consumed by different applications. These differences can make it annoying to process \n",
    "CSV files from multiple sources. Still, while the delimiters and quoting characters vary, the \n",
    "overall format is similar enough that it is possible to write a single module which can efficiently\n",
    "manipulate such data, hiding the details of reading and writing the data from the programmer.\n",
    "\n",
    "In other words, depending on the source, there may be intricacies in the data format. These are not always easy to distinguish - for instance, non-visible new line characters. The csv.reader module is built to handle these intricacies, and thus provides an efficient way to load data.\n",
    "\n",
    "This is why we prefer: `file_nested_list = [row for row in csv.reader(f, delimiter='\\t')]`\n",
    "\n",
    "Instead of: `file_nested_list = [row.split('\\t') for row in f]`"
   ]
  },
  {
   "cell_type": "markdown",
   "metadata": {},
   "source": [
    "## Part 2\n",
    "\n",
    "- Separate 'file_nested_list' into the 'header' and the 'data'."
   ]
  },
  {
   "cell_type": "code",
   "execution_count": null,
   "metadata": {},
   "outputs": [],
   "source": []
  },
  {
   "cell_type": "markdown",
   "metadata": {},
   "source": [
    "## Part 3\n",
    "\n",
    "- Calculate the average price of an order.\n",
    "- **Hint:** Examine the data to see if the 'quantity' column is relevant to this calculation.\n",
    "- **Hint:** Think carefully about the simplest way to do this!"
   ]
  },
  {
   "cell_type": "markdown",
   "metadata": {},
   "source": [
    "We want to find the average price of an order. This means we need the **sum of the price of all orders** and the **total number of orders**."
   ]
  },
  {
   "cell_type": "code",
   "execution_count": null,
   "metadata": {},
   "outputs": [],
   "source": []
  },
  {
   "cell_type": "markdown",
   "metadata": {},
   "source": [
    "### Calculate the average price"
   ]
  },
  {
   "cell_type": "markdown",
   "metadata": {},
   "source": [
    "## Part 4\n",
    "\n",
    "- Create a list (or set) of all unique sodas and soft drinks that they sell.\n",
    "- **Note:** Just look for 'Canned Soda' and 'Canned Soft Drink', and ignore other drinks like 'Izze'."
   ]
  },
  {
   "cell_type": "code",
   "execution_count": null,
   "metadata": {},
   "outputs": [],
   "source": []
  },
  {
   "cell_type": "markdown",
   "metadata": {},
   "source": [
    "## Part 5\n",
    "\n",
    "- Calculate the average number of toppings per burrito.\n",
    "- **Note:** Let's ignore the 'quantity' column to simplify this task.\n",
    "- **Hint:** Think carefully about the easiest way to count the number of toppings!"
   ]
  },
  {
   "cell_type": "markdown",
   "metadata": {},
   "source": [
    "To calculate the average number of toppings, we simply need to divide the **total number of burritos** by the **total number of toppings**."
   ]
  },
  {
   "cell_type": "code",
   "execution_count": null,
   "metadata": {},
   "outputs": [],
   "source": []
  },
  {
   "cell_type": "markdown",
   "metadata": {},
   "source": [
    "## Part 6\n",
    "\n",
    "- Create a dictionary in which the keys represent chip orders and the values represent the total number of orders.\n",
    "- **Expected output:** {'Chips and Roasted Chili-Corn Salsa': 18, ... }\n",
    "- **Note:** Please take the 'quantity' column into account!\n",
    "- **Optional:** Learn how to use 'defaultdict' to simplify your code."
   ]
  },
  {
   "cell_type": "code",
   "execution_count": null,
   "metadata": {},
   "outputs": [],
   "source": []
  }
 ],
 "metadata": {
  "kernelspec": {
   "display_name": "Python 3",
   "language": "python",
   "name": "python3"
  },
  "language_info": {
   "codemirror_mode": {
    "name": "ipython",
    "version": 3
   },
   "file_extension": ".py",
   "mimetype": "text/x-python",
   "name": "python",
   "nbconvert_exporter": "python",
   "pygments_lexer": "ipython3",
   "version": "3.7.3"
  }
 },
 "nbformat": 4,
 "nbformat_minor": 1
}
