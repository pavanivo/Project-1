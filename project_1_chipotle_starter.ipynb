{
 "cells": [
  {
   "cell_type": "markdown",
   "metadata": {},
   "source": [
    "# Python Homework with Chipotle Data"
   ]
  },
  {
   "cell_type": "markdown",
   "metadata": {},
   "source": [
    "## Part 1\n",
    "\n",
    "- Read in the file with csv.reader() and store it in an object called 'file_nested_list'.\n",
    "- Hint: This is a TSV file, and csv.reader() needs to be told how to handle it."
   ]
  },
  {
   "cell_type": "code",
   "execution_count": 1,
   "metadata": {},
   "outputs": [
    {
     "name": "stdout",
     "output_type": "stream",
     "text": [
      "/Users/Pavani/Desktop/GA/Project-1-master\r\n"
     ]
    }
   ],
   "source": [
    "!pwd"
   ]
  },
  {
   "cell_type": "code",
   "execution_count": 2,
   "metadata": {
    "scrolled": true
   },
   "outputs": [
    {
     "name": "stdout",
     "output_type": "stream",
     "text": [
      "/Users/Pavani/Desktop/GA/Project-1-master/data\n"
     ]
    }
   ],
   "source": [
    "# Change the working directory to the 'data' directory\n",
    "%cd data\n"
   ]
  },
  {
   "cell_type": "code",
   "execution_count": 3,
   "metadata": {},
   "outputs": [
    {
     "name": "stdout",
     "output_type": "stream",
     "text": [
      "['order_id', 'quantity', 'item_name', 'choice_description', 'item_price']\n",
      "['1', '1', 'Chips and Fresh Tomato Salsa', 'NULL', '$2.39 ']\n"
     ]
    }
   ],
   "source": [
    "# To use csv.reader, we must import the csv module\n",
    "import csv\n",
    "# The csv.reader has a delimeter parameter, which we set to '\\t' to indicate that the file is tab-separated\n",
    "# We temporarily refer to the file by the variable name f for file\n",
    "# Create a list by looping through each line in f\n",
    "with open('chipotle.tsv', mode='r') as f:   \n",
    "    file_nested_list = [row for row in csv.reader(f, delimiter='\\t')]\n",
    "    header = file_nested_list[0]\n",
    "    data = file_nested_list[1:]\n",
    "    print (header)\n",
    "    print (data[0])    "
   ]
  },
  {
   "cell_type": "markdown",
   "metadata": {},
   "source": [
    "### Why use csv.reader?\n",
    "\n",
    "As stated in the [CSV file reading and writing documentation](https://docs.python.org/2/library/csv.html):\n",
    "\n",
    "> There is no \"CSV standard\", so the format is operationally defined by the many applications which \n",
    "read and write it. The lack of a standard means that subtle differences often exist in the data \n",
    "produced and consumed by different applications. These differences can make it annoying to process \n",
    "CSV files from multiple sources. Still, while the delimiters and quoting characters vary, the \n",
    "overall format is similar enough that it is possible to write a single module which can efficiently\n",
    "manipulate such data, hiding the details of reading and writing the data from the programmer.\n",
    "\n",
    "In other words, depending on the source, there may be intricacies in the data format. These are not always easy to distinguish - for instance, non-visible new line characters. The csv.reader module is built to handle these intricacies, and thus provides an efficient way to load data.\n",
    "\n",
    "This is why we prefer: `file_nested_list = [row for row in csv.reader(f, delimiter='\\t')]`\n",
    "\n",
    "Instead of: `file_nested_list = [row.split('\\t') for row in f]`"
   ]
  },
  {
   "cell_type": "markdown",
   "metadata": {},
   "source": [
    "## Part 2\n",
    "\n",
    "- Separate 'file_nested_list' into the 'header' and the 'data'."
   ]
  },
  {
   "cell_type": "code",
   "execution_count": 4,
   "metadata": {
    "scrolled": true
   },
   "outputs": [
    {
     "name": "stdout",
     "output_type": "stream",
     "text": [
      "['order_id', 'quantity', 'item_name', 'choice_description', 'item_price']\n",
      "['1', '1', 'Chips and Fresh Tomato Salsa', 'NULL', '$2.39 ']\n"
     ]
    }
   ],
   "source": [
    "# To use csv.reader, we must import the csv module\n",
    "header = file_nested_list[0]\n",
    "data = file_nested_list[1:]\n",
    "print (header)\n",
    "print (data[0])"
   ]
  },
  {
   "cell_type": "markdown",
   "metadata": {},
   "source": [
    "## Part 3\n",
    "\n",
    "- Calculate the average price of an order.\n",
    "- **Hint:** Examine the data to see if the 'quantity' column is relevant to this calculation.\n",
    "- **Hint:** Think carefully about the simplest way to do this!"
   ]
  },
  {
   "cell_type": "markdown",
   "metadata": {},
   "source": [
    "We want to find the average price of an order. This means we need the **sum of the price of all orders** and the **total number of orders**."
   ]
  },
  {
   "cell_type": "code",
   "execution_count": 5,
   "metadata": {},
   "outputs": [
    {
     "name": "stdout",
     "output_type": "stream",
     "text": [
      "Average price of an order: $ 7.46\n"
     ]
    }
   ],
   "source": [
    "all_orders =[]\n",
    "for price in data:\n",
    "    all_orders.append(float(price[4].replace('$','')))\n",
    "    average_price = sum(all_orders)/len(all_orders)\n",
    "print('Average price of an order: $',round(average_price, 2))\n"
   ]
  },
  {
   "cell_type": "markdown",
   "metadata": {},
   "source": [
    "### Calculate the average price"
   ]
  },
  {
   "cell_type": "markdown",
   "metadata": {},
   "source": [
    "## Part 4\n",
    "\n",
    "- Create a list (or set) of all unique sodas and soft drinks that they sell.\n",
    "- **Note:** Just look for 'Canned Soda' and 'Canned Soft Drink', and ignore other drinks like 'Izze'."
   ]
  },
  {
   "cell_type": "code",
   "execution_count": 6,
   "metadata": {
    "scrolled": true
   },
   "outputs": [
    {
     "name": "stdout",
     "output_type": "stream",
     "text": [
      "{'[Diet Dr. Pepper]', '[Nestea]', '[Mountain Dew]', '[Coke]', '[Sprite]', '[Coca Cola]', '[Lemonade]', '[Diet Coke]', '[Dr. Pepper]'}\n"
     ]
    }
   ],
   "source": [
    "unique_sodas=[]\n",
    "for item in data:\n",
    "    if item[2] == 'Canned Soda' or item[2] == 'Canned Soft Drink':\n",
    "        unique_sodas.append(item[3])\n",
    "        \n",
    "print(set(unique_sodas))"
   ]
  },
  {
   "cell_type": "markdown",
   "metadata": {},
   "source": [
    "## Part 5\n",
    "\n",
    "- Calculate the average number of toppings per burrito.\n",
    "- **Note:** Let's ignore the 'quantity' column to simplify this task.\n",
    "- **Hint:** Think carefully about the easiest way to count the number of toppings!"
   ]
  },
  {
   "cell_type": "markdown",
   "metadata": {},
   "source": [
    "To calculate the average number of toppings, we simply need to divide the **total number of burritos** by the **total number of toppings**."
   ]
  },
  {
   "cell_type": "code",
   "execution_count": 7,
   "metadata": {},
   "outputs": [
    {
     "name": "stdout",
     "output_type": "stream",
     "text": [
      "Average number of toppings per burrito:  4\n"
     ]
    }
   ],
   "source": [
    "num_topping = []\n",
    "Burrito_count = 0\n",
    "for item in data:  \n",
    "    if (item[2][-7:] == -1): \n",
    "        Burrito_count = 0 \n",
    "    else: \n",
    "        num_topping.append(item[3].count(',') + 1)\n",
    "        Burrito_count += 1\n",
    "#print(Burrito_count)\n",
    "#print(sum(num_topping))\n",
    "#print(len(num_topping))\n",
    "#avg_topping_per_burrito = Burrito_count/sum(num_topping)\n",
    "Average_toppings_per_Burrito = sum(num_topping)/len(num_topping)\n",
    "#print('Average number of toppings per burrito: ', int(round(avg_topping_per_burrito)))\n",
    "print('Average number of toppings per burrito: ', int(round(Average_toppings_per_Burrito)))"
   ]
  },
  {
   "cell_type": "markdown",
   "metadata": {},
   "source": [
    "## Part 6\n",
    "\n",
    "- Create a dictionary in which the keys represent chip orders and the values represent the total number of orders.\n",
    "- **Expected output:** {'Chips and Roasted Chili-Corn Salsa': 18, ... }\n",
    "- **Note:** Please take the 'quantity' column into account!\n",
    "- **Optional:** Learn how to use 'defaultdict' to simplify your code."
   ]
  },
  {
   "cell_type": "code",
   "execution_count": 8,
   "metadata": {},
   "outputs": [
    {
     "name": "stdout",
     "output_type": "stream",
     "text": [
      "{'Chips and Fresh Tomato Salsa': 130, 'Chips and Tomatillo-Green Chili Salsa': 33, 'Side of Chips': 110, 'Chips and Guacamole': 506, 'Chips and Tomatillo Green Chili Salsa': 45, 'Chips': 230, 'Chips and Tomatillo Red Chili Salsa': 50, 'Chips and Roasted Chili-Corn Salsa': 18, 'Chips and Roasted Chili Corn Salsa': 23, 'Chips and Tomatillo-Red Chili Salsa': 25, 'Chips and Mild Fresh Tomato Salsa': '1'}\n"
     ]
    }
   ],
   "source": [
    "chips_dict ={}\n",
    "for item in data:\n",
    "    if 'Chips' in item[2]:\n",
    "        if item[2] in chips_dict.keys():\n",
    "            chips_dict[item[2]] = int(chips_dict[item[2]])+int(item[1])\n",
    "        else:\n",
    "            chips_dict[item[2]] = item[1]\n",
    "print(chips_dict)    "
   ]
  },
  {
   "cell_type": "code",
   "execution_count": null,
   "metadata": {},
   "outputs": [],
   "source": []
  }
 ],
 "metadata": {
  "kernelspec": {
   "display_name": "Python 3",
   "language": "python",
   "name": "python3"
  },
  "language_info": {
   "codemirror_mode": {
    "name": "ipython",
    "version": 3
   },
   "file_extension": ".py",
   "mimetype": "text/x-python",
   "name": "python",
   "nbconvert_exporter": "python",
   "pygments_lexer": "ipython3",
   "version": "3.7.6"
  }
 },
 "nbformat": 4,
 "nbformat_minor": 1
}
